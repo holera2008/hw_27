{
  "nbformat": 4,
  "nbformat_minor": 0,
  "metadata": {
    "colab": {
      "provenance": [],
      "authorship_tag": "ABX9TyMGfDYGgUMRMlaJOVV5AgcA",
      "include_colab_link": true
    },
    "kernelspec": {
      "name": "python3",
      "display_name": "Python 3"
    },
    "language_info": {
      "name": "python"
    }
  },
  "cells": [
    {
      "cell_type": "markdown",
      "metadata": {
        "id": "view-in-github",
        "colab_type": "text"
      },
      "source": [
        "<a href=\"https://colab.research.google.com/github/holera2008/hw_27/blob/main/hw27.ipynb\" target=\"_parent\"><img src=\"https://colab.research.google.com/assets/colab-badge.svg\" alt=\"Open In Colab\"/></a>"
      ]
    },
    {
      "cell_type": "code",
      "execution_count": null,
      "metadata": {
        "id": "QysYMDXrjfie"
      },
      "outputs": [],
      "source": [
        "class Point:\n",
        "    def __init__(self, x, y):\n",
        "        self.__x = None\n",
        "        self.__y = None\n",
        "        self.x = x\n",
        "        self.y = y\n",
        "\n",
        "    @property\n",
        "    def x(self):\n",
        "        return self.__x\n",
        "\n",
        "    @x.setter\n",
        "    def x(self, x):\n",
        "        if (type(x) == int) or (type(x) == float):\n",
        "            self.__x = x\n",
        "\n",
        "    @property\n",
        "    def y(self):\n",
        "        return self.__y\n",
        "\n",
        "    @y.setter\n",
        "    def y(self, y):\n",
        "        if (type(y) == int) or (type(y) == float):\n",
        "            self.__y = y\n",
        "\n",
        "    def __str__(self):\n",
        "        return f\"Point({self.x},{self.y})\"\n",
        "\n",
        "\n",
        "class Vector:\n",
        "    def __init__(self, coordinates: Point):\n",
        "        self.coordinates = coordinates\n",
        "\n",
        "    def __setitem__(self, index, value):\n",
        "        if index == 0:\n",
        "            self.coordinates.x = value\n",
        "        if index == 1:\n",
        "            self.coordinates.y = value\n",
        "\n",
        "    def __getitem__(self, index):\n",
        "        if index == 0:\n",
        "            return self.coordinates.x\n",
        "        if index == 1:\n",
        "            return self.coordinates.y\n",
        "\n",
        "    def __call__(self, value=None):\n",
        "        result = (self.coordinates.x * 5, self.coordinates.y * 5)\n",
        "        return result\n",
        "\n",
        "    def __str__(self):\n",
        "        return f\"Vector({self.coordinates.x},{self.coordinates.y})\"\n",
        "\n",
        "\n",
        "vector = Vector(Point(1, 10))\n",
        "print(vector(5))"
      ]
    }
  ]
}